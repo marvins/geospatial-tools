{
 "cells": [
  {
   "cell_type": "markdown",
   "id": "a6f17341-9c09-4bc3-93b7-2405f2ec0d38",
   "metadata": {},
   "source": [
    " # ISS Position Analysis\n",
    "\n",
    "## Objectives:\n",
    "\n",
    "* [ ] Convert the ISS position at a specific date to Azimuth and Elevation angles.\n",
    "    * [X] Use SNC Rocky-Mountain Campus as reference.\n",
    "    * [ ] Use Astropy and other APIs to build solution.\n",
    "    * [ ] Use internally-derived equations.\n",
    "    * [ ] Verify these angles make sense.\n",
    "\n",
    "* [ ] Convert Az/El angles back to Equitorial Coordinates\n",
    "\n",
    "* [ ] Verify logic using TLE data of ISS/Zarya."
   ]
  },
  {
   "cell_type": "markdown",
   "id": "99c07c7d-1610-4a08-9b2a-92c8adff0ced",
   "metadata": {},
   "source": [
    "## Import Requires Python Libraries"
   ]
  },
  {
   "cell_type": "code",
   "execution_count": 1,
   "id": "2326d413-d72c-42a0-a625-c7af7c530100",
   "metadata": {},
   "outputs": [],
   "source": [
    "from datetime import datetime, timedelta\n",
    "import logging\n",
    "import math\n",
    "\n",
    "import pytz\n",
    "from pytz import timezone\n",
    "\n",
    "from astropy import units as u\n",
    "from astropy.coordinates import AltAz, CartesianDifferential, CartesianRepresentation, EarthLocation, ICRS, ITRS, SkyCoord, TEME, get_body, get_sun\n",
    "from astropy.time import Time\n",
    "from astropy.visualization import quantity_support\n",
    "\n",
    "import numpy as np\n",
    "\n",
    "from sgp4.api import Satrec"
   ]
  },
  {
   "cell_type": "markdown",
   "id": "09eda03d-c2f3-4c99-b6a5-e527d8b4ca08",
   "metadata": {},
   "source": [
    "Configure logger.\n",
    "* **Note:** Use `logging.INFO` unless troubleshooting issues.  Then use `logging.DEBUG`."
   ]
  },
  {
   "cell_type": "code",
   "execution_count": 2,
   "id": "5284051b-fc86-4033-9684-a8151806ca8f",
   "metadata": {},
   "outputs": [],
   "source": [
    "logging.basicConfig( level = logging.DEBUG )\n",
    "logger = logging.getLogger('main')"
   ]
  },
  {
   "cell_type": "markdown",
   "id": "d2f8dda6-34ae-42ee-938c-6d053652c432",
   "metadata": {},
   "source": [
    "## Test Configuration\n",
    "\n",
    "This test is designed around the following information:\n",
    "\n",
    "* RMS Facility Location (Lon/Lat/Alt):  `-104.844^{\\circ}`, `39.544^{\\circ}`, `1970 m`\n",
    "* Time of Event:\n",
    "    * JD: `2460878.45347`\n",
    "    * MJD: `60877.95347`\n",
    "    * Greg (MDT): `2025-07-21 15:53:00 UTC-7`\n",
    "    * Greg (UTC): `2025-07-21 22:53:00`\n",
    "* ISS Position:\n",
    "    * J2000 Eq (Ra/Dec): $(9h, 25m, 25.80s, \\small{+} 40^{\\circ}, 40', 46.0'')$\n",
    "    * J2000 Eq (Ra/Dec): $(9h, 27m, 03.31s, \\small{+} 40^{\\circ}, 40', 17.0'')$\n",
    "    * Ground Position (LLA): $35.91^{\\circ}, -104.8^{\\circ}, 419 \\textit{km}$\n",
    "* Expected Az/El Angles:\n",
    "    * Az: $284^{\\circ}, 15' 17.0''$, El: $62^{\\circ}, 11', 21.5''$ \n"
   ]
  },
  {
   "cell_type": "markdown",
   "id": "652806de-0c55-4f8d-a4ef-1733169eced9",
   "metadata": {},
   "source": [
    "### Expected Results\n",
    "![Stellarium Results](./images/ISS_Stellarium_20250720.png)"
   ]
  },
  {
   "cell_type": "markdown",
   "id": "124f16b6-9eed-4469-a08a-607e72233b3b",
   "metadata": {},
   "source": [
    "Here is the expected per Wolfram Alpha\n",
    "* Input: `Position of the ISS at 22:53:00 UTC on July 21, 2025`\n",
    "![Wolfram Alpha](./images/wolfram_20250720.png)"
   ]
  },
  {
   "cell_type": "markdown",
   "id": "60a9d00c-203e-4a36-b70f-6b524edea3e6",
   "metadata": {},
   "source": [
    "### Right Ascension"
   ]
  },
  {
   "cell_type": "code",
   "execution_count": 3,
   "id": "da5627e6-410f-4fb8-9407-704795f68c50",
   "metadata": {},
   "outputs": [],
   "source": [
    "ra_hms_date  = ( 9, 25, 25.8  )\n",
    "ra_hms_j2000 = ( 9, 27,  3.31 )"
   ]
  },
  {
   "cell_type": "markdown",
   "id": "f56c4697-2d37-4538-b923-553a142b1f77",
   "metadata": {},
   "source": [
    "### Declination"
   ]
  },
  {
   "cell_type": "code",
   "execution_count": 4,
   "id": "822916e1-5cc1-4e2b-a163-90f981ee12f2",
   "metadata": {},
   "outputs": [],
   "source": [
    "dec_dms_date  = ( 40, 46, 53.9 )\n",
    "dec_dms_j2000 = ( 40, 40, 17.0 )"
   ]
  },
  {
   "cell_type": "markdown",
   "id": "9fd3b82a-4e31-4e67-8a58-04c0d8f81004",
   "metadata": {},
   "source": [
    "### Event Date"
   ]
  },
  {
   "cell_type": "code",
   "execution_count": 5,
   "id": "194f226e-7c5f-4575-8f1f-1288a9b70f6c",
   "metadata": {},
   "outputs": [
    {
     "name": "stderr",
     "output_type": "stream",
     "text": [
      "INFO:main:UTC Date: 07/21/25 22:53:00\n",
      "INFO:main:Denver Date: 07/21/25 16:53:00\n"
     ]
    }
   ],
   "source": [
    "dt = datetime( year   = 2025,\n",
    "               month  = 7,\n",
    "               day    = 21,\n",
    "               hour   = 22,\n",
    "               minute = 53,\n",
    "               second = 00 )\n",
    "dt_utc = timezone('UTC').localize( dt )\n",
    "logger.info( f'UTC Date: {dt_utc.strftime(\"%x %X\")}' )\n",
    "\n",
    "dt_local = dt_utc.astimezone(pytz.timezone('America/Denver'))\n",
    "logger.info( f'Denver Date: {dt_local.strftime(\"%x %X\")}' )\n",
    "\n",
    "event_jd_exp = 2460878.45347\n",
    "event_mjd_exp  = 60877.95347"
   ]
  },
  {
   "cell_type": "markdown",
   "id": "041407cd-5edb-4b45-90e8-943ca745d8ce",
   "metadata": {},
   "source": [
    "### Observer Position (Geographic)"
   ]
  },
  {
   "cell_type": "code",
   "execution_count": 6,
   "id": "ff50e3b5-2d3b-42c5-991e-dde00a6f2399",
   "metadata": {},
   "outputs": [],
   "source": [
    "obs_pos_lla = [ -104.844, 39.544, 1790 ]"
   ]
  },
  {
   "cell_type": "markdown",
   "id": "0a20a0b2-e229-43ad-bb8d-afe9f978299d",
   "metadata": {},
   "source": [
    "### Two-Line-Element (TLE) of the ISS\n",
    "Retrieved July 21, 2025 from [Celestrak](https://celestrak.org/NORAD/elements/gp.php?GROUP=stations&FORMAT=tle).\n",
    "\n",
    "```\n",
    "ISS (ZARYA)             \n",
    "1 25544U 98067A   25202.63188906  .00007327  00000+0  13628-3 0  9993\n",
    "2 25544  51.6344 136.3369 0002363 106.2254 313.1028 15.49989292520508\n",
    "```"
   ]
  },
  {
   "cell_type": "code",
   "execution_count": 7,
   "id": "2c48a7fd-fd05-4484-8faa-380686eb9af9",
   "metadata": {},
   "outputs": [],
   "source": [
    "iss_tle_str = [ 'ISS (ZARYA)',\n",
    "                '1 25544U 98067A   25202.63188906  .00007327  00000+0  13628-3 0  9993',\n",
    "                '2 25544  51.6344 136.3369 0002363 106.2254 313.1028 15.49989292520508' ]"
   ]
  },
  {
   "cell_type": "markdown",
   "id": "812100e7-f1bd-4284-8081-8af8ae58527e",
   "metadata": {},
   "source": [
    "## Supporting Functions\n",
    "\n",
    "### Converting Hour/Minute/Seconds to Decimal Hours\n",
    "\n",
    "$$\n",
    "h = \\textit{hr} + \\frac{\\textit{min}}{60} + \\frac{\\textit{sec}}{360}\n",
    "$$"
   ]
  },
  {
   "cell_type": "code",
   "execution_count": 8,
   "id": "406f86df-024b-4ec4-9831-78e5b66b4b07",
   "metadata": {},
   "outputs": [],
   "source": [
    "def hms_to_hours( hms: tuple ):\n",
    "    return hms[0] + hms[1]/60. + hms[2]/360."
   ]
  },
  {
   "cell_type": "markdown",
   "id": "6ed11c18-e2cd-47bd-8378-34aa41599b18",
   "metadata": {},
   "source": [
    "### Converting Deg/Min/Sec to Decimal Degrees\n",
    "\n",
    "$$\n",
    "\\textit{deg} = \\frac{\\textit{hr}}{24} \\cdot 360\n",
    "$$"
   ]
  },
  {
   "cell_type": "code",
   "execution_count": 9,
   "id": "c5fc8626-dfb0-4abe-9c41-e217ddbef1b5",
   "metadata": {},
   "outputs": [],
   "source": [
    "def hours_to_dms( hr ):\n",
    "    return (hr / 24.) * 360."
   ]
  },
  {
   "cell_type": "markdown",
   "id": "87223b96-c224-45c2-b1d5-5f2bf6ea1940",
   "metadata": {},
   "source": [
    "### Converting Geographic to ECEF"
   ]
  },
  {
   "cell_type": "code",
   "execution_count": 10,
   "id": "d440daf3-41e1-4ae6-96e3-8720687d9997",
   "metadata": {},
   "outputs": [],
   "source": [
    "def lla_to_ecef( pos_lla ):\n",
    "\n",
    "    lon_deg = pos_lla[0]\n",
    "    lat_deg = pos_lla[1]\n",
    "    alt_m   = pos_lla[2]\n",
    "\n",
    "    a = 6378137\n",
    "    a_sq = a**2\n",
    "    e = 8.181919084261345e-2\n",
    "    e_sq = e**2\n",
    "    b_sq = a_sq*(1 - e_sq)\n",
    "\n",
    "    lat_rad = math.radians( lat_deg )\n",
    "    lon_rad = math.radians( lon_deg )\n",
    "\n",
    "    N = a / math.sqrt( 1. - e_sq * math.sin( lat_rad ) ** 2 )\n",
    "    x = ( N + alt_m ) * math.cos( lat_rad ) * math.cos( lon_rad )\n",
    "    y = ( N + alt_m ) * math.cos( lat_rad ) * math.sin( lon_rad )\n",
    "    z = ( ( b_sq / a_sq ) * N + alt_m ) * math.sin( lat_rad )\n",
    "\n",
    "    return np.array( [x, y, z], dtype = np.float64 )"
   ]
  },
  {
   "cell_type": "markdown",
   "id": "11fd22a6-f8be-433f-9d81-2513277a0e4b",
   "metadata": {},
   "source": [
    "### Converting ECEF to Geographic"
   ]
  },
  {
   "cell_type": "code",
   "execution_count": 11,
   "id": "1825f4c9-6dce-4a6e-ba33-de323bbce1da",
   "metadata": {},
   "outputs": [],
   "source": [
    "def ecef_to_lla( pos_ecef ):\n",
    "\t\n",
    "    # x, y and z are scalars or vectors in meters\n",
    "\tx = pos_ecef.flatten()[0]\n",
    "\ty = pos_ecef.flatten()[1]\n",
    "\tz = pos_ecef.flatten()[2]\n",
    "\n",
    "\ta=6378137\n",
    "\ta_sq=a**2\n",
    "\te = 8.181919084261345e-2\n",
    "\te_sq = 6.69437999014e-3\n",
    "\n",
    "\tf = 1/298.257223563\n",
    "\tb = a*(1-f)\n",
    "\n",
    "\t# calculations:\n",
    "\tr = math.sqrt(x**2 + y**2)\n",
    "\tep_sq  = (a**2-b**2)/b**2\n",
    "\tee = (a**2-b**2)\n",
    "\tf = (54*b**2)*(z**2)\n",
    "\tg = r**2 + (1 - e_sq)*(z**2) - e_sq*ee*2\n",
    "\tc = (e_sq**2)*f*r**2/(g**3)\n",
    "\ts = (1 + c + math.sqrt(c**2 + 2*c))**(1/3.)\n",
    "\tp = f/(3.*(g**2)*(s + (1./s) + 1)**2)\n",
    "\tq = math.sqrt(1 + 2*p*e_sq**2)\n",
    "\tr_0 = -(p*e_sq*r)/(1+q) + math.sqrt(0.5*(a**2)*(1+(1./q)) - p*(z**2)*(1-e_sq)/(q*(1+q)) - 0.5*p*(r**2))\n",
    "\tu = math.sqrt((r - e_sq*r_0)**2 + z**2)\n",
    "\tv = math.sqrt((r - e_sq*r_0)**2 + (1 - e_sq)*z**2)\n",
    "\tz_0 = (b**2)*z/(a*v)\n",
    "\th = u*(1 - b**2/(a*v))\n",
    "\tphi = math.atan((z + ep_sq*z_0)/r)\n",
    "\tlambd = math.atan2(y, x)\n",
    "\n",
    "\n",
    "\treturn phi*180/math.pi, lambd*180/math.pi, h"
   ]
  },
  {
   "cell_type": "markdown",
   "id": "b9df4222-c6c6-404a-b1bb-e4927786fc6c",
   "metadata": {},
   "source": [
    "### Create ECEF to NED Rotation Matrix\n"
   ]
  },
  {
   "cell_type": "code",
   "execution_count": 12,
   "id": "5ae6b6d0-1928-441c-a6f0-1c65af2436f6",
   "metadata": {},
   "outputs": [],
   "source": [
    "def ecef_to_ned_matrix( lla_pos ):\n",
    "\n",
    "    lon_ref = math.radians( lla_pos[0] )\n",
    "    lat_ref = math.radians( lla_pos[1] )\n",
    "\n",
    "    M = np.eye( 3 )\n",
    "    M[0,0]=-math.sin(lat_ref)*math.cos(lon_ref)\n",
    "    M[0,1]=-math.sin(lat_ref)*math.sin(lon_ref)\n",
    "    M[0,2]= math.cos(lat_ref)\n",
    "\t\n",
    "    M[1,0]=-math.sin(lon_ref)\n",
    "    M[1,1]= math.cos(lon_ref)\n",
    "    M[1,2]= 0\n",
    "\n",
    "    M[2,0]=-math.cos(lat_ref)*math.cos(lon_ref)\n",
    "    M[2,1]=-math.cos(lat_ref)*math.sin(lon_ref)\n",
    "    M[2,2]=-math.sin(lat_ref)\n",
    "\n",
    "    return M"
   ]
  },
  {
   "cell_type": "markdown",
   "id": "96a24bdc-a847-4a1b-8d69-6190a06f12a1",
   "metadata": {},
   "source": [
    "## NED to Topocentric\n"
   ]
  },
  {
   "cell_type": "code",
   "execution_count": 13,
   "id": "9cd233ae-27c3-4d60-bc84-eda9887ef805",
   "metadata": {},
   "outputs": [],
   "source": [
    "def norm_degree( deg, min_val = 0, max_val = 360 ):\n",
    "    range = max_val - min_val\n",
    "    while deg > max_val:\n",
    "        deg -= range\n",
    "    while deg < min_val:\n",
    "        deg += range\n",
    "    return deg"
   ]
  },
  {
   "cell_type": "code",
   "execution_count": 14,
   "id": "5df81fd4-21be-483b-8012-8fa51b6addb3",
   "metadata": {},
   "outputs": [],
   "source": [
    "def ned_to_horizon( ned ):\n",
    "\n",
    "    ned_flat = ned.flatten()\n",
    "    az = norm_degree( math.degrees( math.atan2( ned_flat[1], ned_flat[0] ) ) )\n",
    "    el = norm_degree( math.degrees( -math.asin( ned_flat[2] ) ), -90, 90 )\n",
    "\n",
    "    return (az, el)"
   ]
  },
  {
   "cell_type": "markdown",
   "id": "331dca49-f27f-4bda-abaf-ba3d1e3d4b7f",
   "metadata": {},
   "source": [
    "Convert the Sensor Position to ECEF"
   ]
  },
  {
   "cell_type": "markdown",
   "id": "262e94c7-a1c8-4372-adce-7bdd563013d8",
   "metadata": {},
   "source": [
    "## Validating Right Ascension\n",
    "\n",
    "For this secion, we test conversions between different representations of Right Ascension. "
   ]
  },
  {
   "cell_type": "markdown",
   "id": "24544cf1-8846-402b-8e6f-ad91247a054b",
   "metadata": {},
   "source": [
    "***Right Ascension:***\n",
    "\n",
    "Represented in Hours, Minutes, and Seconds"
   ]
  },
  {
   "cell_type": "code",
   "execution_count": 15,
   "id": "8550064a-f6f5-41d6-97a5-63677ada5a36",
   "metadata": {},
   "outputs": [],
   "source": [
    "ra_deg_date  = hours_to_dms( hms_to_hours( ra_hms_date ) )\n",
    "ra_deg_j2000 = hours_to_dms( hms_to_hours( ra_hms_j2000 ) )"
   ]
  },
  {
   "cell_type": "code",
   "execution_count": 16,
   "id": "354b406c-027c-4c2f-abc4-2b06db6c4d88",
   "metadata": {},
   "outputs": [
    {
     "name": "stderr",
     "output_type": "stream",
     "text": [
      "INFO:main:Right Ascension (Date) : 142.325000\n",
      "INFO:main:Right Ascension (J2000): 141.887917\n"
     ]
    }
   ],
   "source": [
    "logger.info( f'Right Ascension (Date) : {ra_deg_date:.6f}' )\n",
    "logger.info( f'Right Ascension (J2000): {ra_deg_j2000:.6f}' )"
   ]
  },
  {
   "cell_type": "markdown",
   "id": "a517bc68-5f6e-4db4-ac73-fa3afa4fa170",
   "metadata": {},
   "source": [
    "***Declination:***\n",
    " Input is often represented in Degrees, Minutes, Seconds (DMS).  We need to convert to Decimal-Degrees."
   ]
  },
  {
   "cell_type": "code",
   "execution_count": 17,
   "id": "ba8b3186-2090-45e0-b181-f235e829f416",
   "metadata": {},
   "outputs": [],
   "source": [
    "de_deg_date  = hms_to_hours( dec_dms_date )\n",
    "de_deg_j2000 = hms_to_hours( dec_dms_j2000 )"
   ]
  },
  {
   "cell_type": "code",
   "execution_count": 18,
   "id": "457e2ea4-6aeb-4108-961a-fb254842fc50",
   "metadata": {},
   "outputs": [
    {
     "name": "stderr",
     "output_type": "stream",
     "text": [
      "INFO:main:Declination (Date) : 40.916389\n",
      "INFO:main:Declination (J2000): 40.713889\n"
     ]
    }
   ],
   "source": [
    "logger.info( f'Declination (Date) : {de_deg_date:.6f}' )\n",
    "logger.info( f'Declination (J2000): {de_deg_j2000:.6f}' )"
   ]
  },
  {
   "cell_type": "markdown",
   "id": "68ecfc81-b5f3-4b01-a888-a633500f4414",
   "metadata": {},
   "source": [
    "## Create Astropy Objects\n",
    "\n",
    "### Expected ISS Positions"
   ]
  },
  {
   "cell_type": "code",
   "execution_count": 19,
   "id": "645e566a-be0e-4fb4-871f-1694b43b909d",
   "metadata": {},
   "outputs": [],
   "source": [
    "iss_ref_pos_date = SkyCoord( ra    = ra_deg_date,\n",
    "                             dec   = de_deg_date,\n",
    "                             unit  = (u.hourangle, u.deg),\n",
    "                             frame = ICRS )\n",
    "\n",
    "iss_ref_pos_j2000 = SkyCoord( ra    = ra_deg_j2000,\n",
    "                              dec   = de_deg_j2000,\n",
    "                              unit  = (u.hourangle, u.deg),\n",
    "                              frame = ICRS )"
   ]
  },
  {
   "cell_type": "markdown",
   "id": "fb2ef2ac-9a94-4254-ab4b-1b3685eeef52",
   "metadata": {},
   "source": [
    "### Position of Sensor at RMC"
   ]
  },
  {
   "cell_type": "code",
   "execution_count": 20,
   "id": "37830366-7cf6-4d59-9ec8-1bdcdc27b1b3",
   "metadata": {},
   "outputs": [],
   "source": [
    "obs_gnd_pos = EarthLocation.from_geodetic( lon    = obs_pos_lla[0] * u.deg,\n",
    "                                           lat    = obs_pos_lla[1] * u.deg,\n",
    "                                           height = obs_pos_lla[2] * u.m )"
   ]
  },
  {
   "cell_type": "markdown",
   "id": "7aa83673-c219-40a0-a4d1-a4fe482863a5",
   "metadata": {},
   "source": [
    "### Event Time"
   ]
  },
  {
   "cell_type": "code",
   "execution_count": 21,
   "id": "2668c0d0-5c12-41e2-8e06-e605cffc5c4f",
   "metadata": {},
   "outputs": [
    {
     "name": "stderr",
     "output_type": "stream",
     "text": [
      "INFO:main:  Event Date: 2460878.45347\n",
      "INFO:main:         MJD: 60877.953470000066, Error: 0.00\n",
      "INFO:main:          JD: 2460878.45347, Error: 0.00\n"
     ]
    }
   ],
   "source": [
    "sensor_time = Time( event_jd_exp, format = 'jd' )#Time( dt_local )\n",
    "\n",
    "event_mjd_act = sensor_time.to_value(\"mjd\")\n",
    "event_jd_act  = sensor_time.to_value(\"jd\")\n",
    "\n",
    "mjd_error = abs(event_mjd_act - event_mjd_exp)\n",
    "jd_error  = abs(event_jd_act  - event_jd_exp)\n",
    "\n",
    "logger.info( f'  Event Date: {sensor_time}' )\n",
    "logger.info( f'         MJD: {event_mjd_act}, Error: {mjd_error:.2f}' )\n",
    "logger.info( f'          JD: {event_jd_act}, Error: {jd_error:.2f}' )"
   ]
  },
  {
   "cell_type": "markdown",
   "id": "2a6d689e-6fe9-45a4-ad50-1c9fcde6eacb",
   "metadata": {},
   "source": [
    "### Observer's Frame-of-Reference"
   ]
  },
  {
   "cell_type": "code",
   "execution_count": 22,
   "id": "a93ec18b-a470-4808-9402-a13aeaa1a584",
   "metadata": {},
   "outputs": [
    {
     "name": "stderr",
     "output_type": "stream",
     "text": [
      "INFO:main:<AltAz Frame (obstime=2460878.45347, location=(-1262105.1446924414, -4762065.809473791, 4040211.4453365966) m, pressure=0.0 hPa, temperature=0.0 deg_C, relative_humidity=0.0, obswl=1.0 micron)>\n"
     ]
    }
   ],
   "source": [
    "frame = AltAz( obstime  = sensor_time,\n",
    "               location = obs_gnd_pos )\n",
    "logger.info( frame )"
   ]
  },
  {
   "cell_type": "markdown",
   "id": "1b5d96a3-e178-47e7-a97a-3701529f57ac",
   "metadata": {},
   "source": [
    "### Solve for the Az/El Angle for Frame-of-Reference, at Specific Time\n",
    "\n",
    "<span style=\"color:red\"><b>Note: This code doesn't work yet.  There seems to be conversion errors with the time zone.</b></span>"
   ]
  },
  {
   "cell_type": "code",
   "execution_count": 23,
   "id": "24c9ac22-b828-4027-856f-c81ae8a9733f",
   "metadata": {},
   "outputs": [
    {
     "name": "stderr",
     "output_type": "stream",
     "text": [
      "INFO:main:<SkyCoord (AltAz: obstime=2460878.45347, location=(-1262105.1446924414, -4762065.809473791, 4040211.4453365966) m, pressure=0.0 hPa, temperature=0.0 deg_C, relative_humidity=0.0, obswl=1.0 micron): (az, alt) in deg\n",
      "    (17.41119886, -6.68945828)>\n"
     ]
    }
   ],
   "source": [
    "alt_az_date = iss_ref_pos_date.transform_to( frame )\n",
    "logger.info( alt_az_date )"
   ]
  },
  {
   "cell_type": "markdown",
   "id": "dd0bd741-1aab-4d7a-94a5-f1fa4b2fb524",
   "metadata": {},
   "source": [
    "## Solving Azimuth and Elevation using ECEF Positions\n",
    "\n",
    "As a sanity check, we can convert the ISS position to ECEF, then estimate the vector's Az/El angles using the Obs -> ISS vector.  This will involve a conversion to NED, then some light trig."
   ]
  },
  {
   "cell_type": "markdown",
   "id": "74450b72-f339-4e75-b87d-d3fa20e9153b",
   "metadata": {},
   "source": [
    "### Using sgp4 for processing ISS TLE Info"
   ]
  },
  {
   "cell_type": "code",
   "execution_count": 24,
   "id": "1c7fc6a2-069c-4900-89d0-2f25fe1a63af",
   "metadata": {},
   "outputs": [
    {
     "name": "stderr",
     "output_type": "stream",
     "text": [
      "INFO:main:Observer Position ECEF: [-1262105.14469244 -4762065.80947379  4040211.4453366 ]\n"
     ]
    }
   ],
   "source": [
    "obs_pos_ecef = lla_to_ecef( obs_pos_lla )\n",
    "logger.info( f'Observer Position ECEF: {obs_pos_ecef}' )"
   ]
  },
  {
   "cell_type": "code",
   "execution_count": 25,
   "id": "b34900aa-3a35-47b0-972f-0627c8ac3a18",
   "metadata": {},
   "outputs": [
    {
     "name": "stderr",
     "output_type": "stream",
     "text": [
      "DEBUG:main:<sgp4.wrapper.Satrec object at 0x13387c610>\n",
      "DEBUG:main:\n",
      "  - error code: 0\n",
      "  - relative_position (km): [-5199.10951535   349.497327    4350.99173184]\n",
      "  - velocity (km/s): [ 2.47316608 -6.37941418  3.45620405]\n",
      "\n",
      "DEBUG:main:ISS ITRS:\n",
      "  - Cartesian: [-1527820.85792497 -4981840.02531517  4350982.71347563]\n",
      "  - Velocity: [6412.40009404 1062.01783008 3456.20019154]\n",
      "\n"
     ]
    }
   ],
   "source": [
    "iss_sat_info = Satrec.twoline2rv( iss_tle_str[1], iss_tle_str[2] )\n",
    "logger.debug(iss_sat_info)\n",
    "\n",
    "e, r, v = iss_sat_info.sgp4( event_jd_act, 0. )\n",
    "\n",
    "iss_tle_teme_p = np.array( list(r) )\n",
    "iss_tle_teme_v = np.array( list(v) )\n",
    "logger.debug( f'\\n  - error code: {e}\\n  - relative_position (km): {iss_tle_teme_p}\\n  - velocity (km/s): {iss_tle_teme_v}\\n' )\n",
    "\n",
    "time = Time( event_jd_act, format='jd' )\n",
    "iss_teme_p = CartesianRepresentation( iss_tle_teme_p * u.km )\n",
    "iss_teme_v = CartesianDifferential( iss_tle_teme_v * u.km / u.s )\n",
    "\n",
    "iss_teme   = TEME( iss_teme_p.with_differentials( iss_teme_v ), obstime=time )\n",
    "itrs = iss_teme.transform_to( ITRS( obstime = time ) )\n",
    "\n",
    "iss_itrs_p = itrs.cartesian.xyz.value * 1000.\n",
    "iss_itrs_v = itrs.velocity.d_xyz.value * 1000.\n",
    "logger.debug( f'ISS ITRS:\\n  - Cartesian: {iss_itrs_p}\\n  - Velocity: {iss_itrs_v}\\n' )\n"
   ]
  },
  {
   "cell_type": "code",
   "execution_count": 26,
   "id": "574bdcb3-e2be-4e0e-b8dc-fe47dc36dd60",
   "metadata": {},
   "outputs": [
    {
     "name": "stdout",
     "output_type": "stream",
     "text": [
      "iss_to_obs: [-0.57241287 -0.4734443   0.66947292]\n",
      "iss_to_obs_vec: [-0.57241287 -0.4734443   0.66947292]\n"
     ]
    }
   ],
   "source": [
    "iss_to_obs = iss_itrs_p - obs_pos_ecef\n",
    "iss_to_obs_vec = iss_to_obs / np.linalg.norm( iss_to_obs )\n",
    "print( f'iss_to_obs: {iss_to_obs_vec}' )\n",
    "print( f'iss_to_obs_vec: {iss_to_obs_vec}' )"
   ]
  },
  {
   "cell_type": "code",
   "execution_count": 27,
   "id": "1eec1ca5-08ac-4530-b4c0-92a9016aacda",
   "metadata": {},
   "outputs": [
    {
     "name": "stdout",
     "output_type": "stream",
     "text": [
      "iss_tle_pos_lla: (40.0391157528191, -107.04962579308689, 419193.32837435673)\n"
     ]
    }
   ],
   "source": [
    "iss_tle_pos_lla = ecef_to_lla( iss_itrs_p )\n",
    "print( f'iss_tle_pos_lla: {iss_tle_pos_lla}' )"
   ]
  },
  {
   "cell_type": "code",
   "execution_count": 28,
   "id": "132cfb04-8745-4591-84c9-fd0ed061fe28",
   "metadata": {},
   "outputs": [
    {
     "name": "stdout",
     "output_type": "stream",
     "text": [
      "iss_to_obs_ned: [ 0.13152129 -0.43201888 -0.89222297]\n"
     ]
    }
   ],
   "source": [
    "iss_to_obs_ned = ecef_to_ned_matrix( obs_pos_lla ) @ iss_to_obs_vec.reshape((3,1))\n",
    "print( f'iss_to_obs_ned: {iss_to_obs_ned.flatten()}' )"
   ]
  },
  {
   "cell_type": "code",
   "execution_count": 29,
   "id": "4b2e36b9-1209-4893-a750-ff1e2ac34112",
   "metadata": {},
   "outputs": [
    {
     "name": "stdout",
     "output_type": "stream",
     "text": [
      "Horizon. Az: 286.9320385551661, El: 63.153927743913925\n"
     ]
    }
   ],
   "source": [
    "hor = ned_to_horizon( iss_to_obs_ned )\n",
    "print( f'Horizon. Az: {hor[0]}, El: {hor[1]}' )"
   ]
  },
  {
   "cell_type": "code",
   "execution_count": null,
   "id": "d3417a2e-6b6e-409b-bd8f-207662d9ff44",
   "metadata": {},
   "outputs": [],
   "source": []
  }
 ],
 "metadata": {
  "kernelspec": {
   "display_name": "Python 3 (ipykernel)",
   "language": "python",
   "name": "python3"
  },
  "language_info": {
   "codemirror_mode": {
    "name": "ipython",
    "version": 3
   },
   "file_extension": ".py",
   "mimetype": "text/x-python",
   "name": "python",
   "nbconvert_exporter": "python",
   "pygments_lexer": "ipython3",
   "version": "3.13.3"
  }
 },
 "nbformat": 4,
 "nbformat_minor": 5
}
