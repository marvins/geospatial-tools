{
 "cells": [
  {
   "cell_type": "markdown",
   "id": "560ca13f",
   "metadata": {},
   "source": [
    "# Starplot Demonstration\n",
    "\n",
    "Reference: https://starplot.dev/examples/horizon-sgr/"
   ]
  },
  {
   "cell_type": "markdown",
   "id": "8402b51d-4d4a-4ac4-ab1a-30a1d53cb1c6",
   "metadata": {},
   "source": [
    "## Core Python Libraries"
   ]
  },
  {
   "cell_type": "code",
   "execution_count": null,
   "id": "bff27231-c960-4897-bb61-c19fd4817bd2",
   "metadata": {},
   "outputs": [],
   "source": [
    "from datetime import datetime, timedelta\n",
    "\n",
    "from pytz import timezone\n",
    "\n",
    "from starplot import DSO, HorizonPlot, MapPlot, OpticPlot, Projection, _\n",
    "from starplot.styles import PlotStyle, extensions\n",
    "from starplot import MapPlot, Projection, _\n",
    "from starplot.callables import color_by_bv\n",
    "from starplot.optics import Refractor"
   ]
  },
  {
   "cell_type": "markdown",
   "id": "6bb3f50f-94a2-4171-9a77-9189d184af9a",
   "metadata": {},
   "source": [
    "## Test Configuration\n",
    "\n",
    "First, we have the position of the sensor, located at the SNC RMS facility"
   ]
  },
  {
   "cell_type": "code",
   "execution_count": null,
   "id": "76f6a323-65cf-4a84-ba85-fd883876d52e",
   "metadata": {},
   "outputs": [],
   "source": [
    "pos_lla = [-104.844, 39.544, 1790]"
   ]
  },
  {
   "cell_type": "markdown",
   "id": "75c28548-ab48-4b46-95f6-4e5aeb620caa",
   "metadata": {},
   "source": [
    "### ISS (Zarya) Location\n",
    "\n",
    "Using ***Stellarium***, we identify the ISS as having the following position.\n",
    "\n",
    "* **Right Ascension:** 11 hours, 26 minutes, 48 seconds\n",
    "* **Declination:** 11 degrees, 25 minutes, 21.6 seconds\n",
    "* **Time:** July 18, 2025 at `17:41:12` in Denver, Colorado\n",
    "\n",
    "**Right Ascension:**\n",
    "\n",
    "For Right-Ascension, we must convert the HMS notation into Decimal Degree notation.  This is a 2-step process. \n",
    "\n",
    "$$\n",
    "h_\\textit{dec} = h + \\frac{m}{60} + \\frac{s}{360}\n",
    "$$\n",
    "\n",
    "$$\n",
    "\\textit{deg} = \\frac{h_\\textit{dec}}{24} \\cdot 360\n",
    "$$"
   ]
  },
  {
   "cell_type": "code",
   "execution_count": null,
   "id": "61dc7149-83ea-44db-b13e-52e19cdcd3c9",
   "metadata": {},
   "outputs": [],
   "source": [
    "ra_hms = [ 11, 26, 48 ]\n",
    "ra_h_dec = ra_hms[0] + ra_hms[1]/60. + ra_hms[2]/360.\n",
    "print(f'Right Ascension: {ra_h_dec} Hours')\n",
    "ra_deg = (ra_h_dec / 24.) * 360.\n",
    "print( f'Right Ascension: {ra_deg} degs' )"
   ]
  },
  {
   "cell_type": "code",
   "execution_count": null,
   "id": "d6e01911-f739-4136-91f3-a4aede3e7f1d",
   "metadata": {},
   "outputs": [],
   "source": [
    "dec_dms = ( 11, 25, 21.6 )\n",
    "de_deg  = dec_dms[0] + dec_dms[1] / 60. + dec_dms[2] / 360.\n",
    "print(f'Declination Degrees: {de_deg}' )"
   ]
  },
  {
   "cell_type": "code",
   "execution_count": null,
   "id": "a5399ebd-01cb-424a-8ad1-e3ef25c6a71c",
   "metadata": {},
   "outputs": [],
   "source": [
    "dt = timezone(\"America/Denver\").localize( datetime( year   = 2025,\n",
    "                                         month  = 7,\n",
    "                                         day    = 18,\n",
    "                                         hour   = 17,\n",
    "                                         minute = 41,\n",
    "                                         second = 12 ) )\n",
    "dt"
   ]
  },
  {
   "cell_type": "markdown",
   "id": "3098f39b-b378-48ca-9b91-02e148be28a1",
   "metadata": {},
   "source": [
    "For reference, we expect the following relative position, per Stellarium:\n",
    "![Stellarium Plot](./images/ISS_Stellarium.png)"
   ]
  },
  {
   "cell_type": "markdown",
   "id": "e6befa03-320b-4a65-a4ee-f863fefb18ba",
   "metadata": {},
   "source": [
    "## Horizon Plot\n",
    "\n",
    "This creates a plot using an Az/El coordinate system. Link to reference in [Starplot API is here](https://starplot.dev/examples/horizon-sgr/).  Importantly, this plot does not extend above 90-degrees of elevation.\n",
    "\n",
    "Our plot should be a purple/pink oval near the center of the plot."
   ]
  },
  {
   "cell_type": "code",
   "execution_count": null,
   "id": "55f60497-424d-496c-88a2-b8cd4705be3e",
   "metadata": {},
   "outputs": [],
   "source": [
    "style = PlotStyle().extend(\n",
    "    extensions.BLUE_MEDIUM,\n",
    "    extensions.MAP,\n",
    "    {\"figure_background_color\": \"hsl(212, 27%, 48%)\"},\n",
    ")\n",
    "hplot = HorizonPlot(\n",
    "    altitude=(20, 90),\n",
    "    azimuth=(155, 245),\n",
    "    lat= pos_lla[1],\n",
    "    lon = pos_lla[0],\n",
    "    dt=dt,\n",
    "    style=style,\n",
    "    resolution=3000,\n",
    "    scale=0.9,\n",
    ")\n",
    "\n",
    "hplot.constellations()\n",
    "hplot.milky_way()\n",
    "\n",
    "hplot.stars(where=[_.magnitude < 5], where_labels=[_.magnitude < 2])\n",
    "#hplot.messier(where=[_.magnitude < 11], true_size=False, label_fn=lambda d: f\"M{d.m}\")\n",
    "\n",
    "hplot.constellation_labels()\n",
    "hplot.horizon(labels={180: \"SOUTH\"})\n",
    "hplot.gridlines()\n",
    "\n",
    "hplot.circle( center = ( ra_deg, de_deg ),\n",
    "              radius_degrees = 1,\n",
    "              style={\n",
    "                  'alpha': 0.8,\n",
    "                  'color': '#ed7eed',\n",
    "                  'fill_color': '#ed7eed' },\n",
    "    label=\"ISS (Zarya)\",\n",
    ")\n",
    "\n",
    "\n",
    "\n",
    "hplot.export(\"images/horizon_iss.png\", padding=0.2)"
   ]
  },
  {
   "cell_type": "markdown",
   "id": "7f7564c2-05b5-4467-84be-1fdd5aeda8b1",
   "metadata": {},
   "source": [
    "##  Orthographic Map Plot\n",
    "\n",
    "This isn't a particularly useful plot."
   ]
  },
  {
   "cell_type": "code",
   "execution_count": null,
   "id": "7283966b-2c61-4922-a23b-8b31755c9656",
   "metadata": {},
   "outputs": [],
   "source": [
    "mplot = MapPlot(\n",
    "    projection=Projection.ORTHOGRAPHIC,\n",
    "    lat=pos_lla[1],\n",
    "    lon=pos_lla[0],\n",
    "    dt=dt,\n",
    "    ra_min  = ra_deg - 25,\n",
    "    ra_max  = ra_deg + 25,\n",
    "    dec_min = de_deg - 25,\n",
    "    dec_max = de_deg + 25,\n",
    "    style=style,\n",
    "    scale=0.9,  # lower the scale since it shows a large area\n",
    ")\n",
    "mplot.gridlines(labels=True)\n",
    "mplot.constellations()\n",
    "mplot.constellation_borders()\n",
    "\n",
    "mplot.stars(where=[_.magnitude < 8], where_labels=[_.magnitude < 5])\n",
    "mplot.open_clusters(where=[_.magnitude < 12], true_size=False, labels=None)\n",
    "mplot.galaxies(where=[_.magnitude < 12], true_size=False, labels=None)\n",
    "mplot.nebula(where=[_.magnitude < 12], true_size=False, labels=None)\n",
    "\n",
    "mplot.constellation_labels(style__font_alpha=0.4)\n",
    "mplot.ecliptic()\n",
    "mplot.celestial_equator()\n",
    "mplot.milky_way()\n",
    "mplot.planets()\n",
    "\n",
    "mplot.marker(\n",
    "    ra  = ra_deg,\n",
    "    dec = de_deg,\n",
    "    style={\n",
    "        \"marker\": {\n",
    "            \"size\": 80,\n",
    "            \"symbol\": \"circle\",\n",
    "            \"fill\": \"full\",\n",
    "            \"color\": \"#ed7eed\",\n",
    "            \"edge_color\": \"#e0c1e0\",\n",
    "            \"alpha\": 0.8,\n",
    "        },\n",
    "        \"label\": {\n",
    "            \"font_size\": 25,\n",
    "            \"font_weight\": \"bold\",\n",
    "            \"font_color\": \"#c83cc8\",\n",
    "            \"font_alpha\": 1,\n",
    "        },\n",
    "    },\n",
    "    label=\"ISS (Zarya)\",\n",
    ")\n",
    "\n",
    "mplot.export(\"map_orthographic.png\", padding=0.3, transparent=True)"
   ]
  },
  {
   "cell_type": "markdown",
   "id": "a5d3a6b0-fb0b-448a-a865-3b1667570e47",
   "metadata": {},
   "source": [
    "## Zenith Starmap\n"
   ]
  },
  {
   "cell_type": "code",
   "execution_count": null,
   "id": "ec13daee-33a6-4b87-9d16-3383c2737747",
   "metadata": {},
   "outputs": [],
   "source": [
    "from datetime import datetime\n",
    "from pytz import timezone\n",
    "from starplot import MapPlot, Projection, Star, DSO, _\n",
    "from starplot.styles import PlotStyle, extensions\n",
    "\n",
    "p = MapPlot(\n",
    "    projection=Projection.ZENITH,\n",
    "    lat = pos_lla[1],\n",
    "    lon = pos_lla[0],\n",
    "    dt  = dt,\n",
    "    style=PlotStyle().extend(\n",
    "        extensions.BLUE_GOLD,\n",
    "    ),\n",
    "    resolution=3000,\n",
    "    autoscale=True,\n",
    ")\n",
    "p.horizon()\n",
    "p.constellations()\n",
    "p.stars(where=[_.magnitude < 4.6], where_labels=[_.magnitude < 2.1])\n",
    "\n",
    "p.galaxies(where=[_.magnitude < 9], true_size=False, labels=None)\n",
    "p.open_clusters(where=[_.magnitude < 9], true_size=False, labels=None)\n",
    "\n",
    "p.constellation_borders()\n",
    "p.ecliptic()\n",
    "p.celestial_equator()\n",
    "p.milky_way()\n",
    "\n",
    "p.marker(\n",
    "    ra= ra_deg,\n",
    "    dec= de_deg,\n",
    "    style={\n",
    "        \"marker\": {\n",
    "            \"size\": 120,\n",
    "            \"symbol\": \"circle\",\n",
    "            \"fill\": \"none\",\n",
    "            \"color\": None,\n",
    "            \"edge_color\": \"hsl(44, 70%, 73%)\",\n",
    "            \"edge_width\": 6,\n",
    "            \"line_style\": [1, [2, 3]],\n",
    "            \"alpha\": 1,\n",
    "            \"zorder\": 100,\n",
    "        },\n",
    "        \"label\": {\n",
    "            \"zorder\": 200,\n",
    "            \"font_size\": 22,\n",
    "            \"font_weight\": \"bold\",\n",
    "            \"font_color\": \"hsl(44, 70%, 64%)\",\n",
    "            \"font_alpha\": 1,\n",
    "            \"offset_x\": \"auto\",\n",
    "            \"offset_y\": \"auto\",\n",
    "            \"anchor_point\": \"top right\",\n",
    "        },\n",
    "    },\n",
    "    label=\"ISS (Zarya)\",\n",
    ")\n",
    "p.constellation_labels()\n",
    "\n",
    "p.export(\"star_chart_detail.png\", transparent=True, padding=0.1)"
   ]
  },
  {
   "cell_type": "markdown",
   "id": "6d272ac8-dd3a-4f0d-a7e8-d09c1d67ab0b",
   "metadata": {},
   "source": [
    "## Optical Plot\n",
    "\n",
    "This creates a more helpful view relative"
   ]
  },
  {
   "cell_type": "code",
   "execution_count": null,
   "id": "16347e21-e660-471b-b42b-03dcb4440005",
   "metadata": {},
   "outputs": [],
   "source": [
    "style = PlotStyle().extend(\n",
    "    extensions.GRAYSCALE_DARK,\n",
    "    extensions.OPTIC,\n",
    ")\n",
    "\n",
    "oplot = OpticPlot(\n",
    "    ra  = ra_deg,\n",
    "    dec = de_deg,\n",
    "    lat = pos_lla[1],\n",
    "    lon = pos_lla[0],\n",
    "    \n",
    "    optic=Refractor(\n",
    "        focal_length=10,\n",
    "        eyepiece_focal_length=1,\n",
    "        eyepiece_fov=45,\n",
    "    ),\n",
    "    dt=dt,\n",
    "    style=style,\n",
    "    resolution=3096,\n",
    "    autoscale=True,\n",
    ")\n",
    "\n",
    "oplot.circle( center = ( ra_deg, de_deg ),\n",
    "              radius_degrees = 0.05,\n",
    "              style={\n",
    "                  'alpha': 0.8,\n",
    "                  'color': '#ed7eed',\n",
    "                  'fill_color': '#ed7eed' },\n",
    "    label=\"ISS (Zarya)\",\n",
    ")\n",
    "\n",
    "oplot.stars(where=[_.magnitude < 14], color_fn=color_by_bv, bayer_labels=True)\n",
    "oplot.dsos(where=[_.magnitude < 4.1], labels=None)\n",
    "oplot.info()\n",
    "oplot.export(\"images/optical_plot_iss.png\", padding=0.1, transparent=True)"
   ]
  },
  {
   "cell_type": "code",
   "execution_count": null,
   "id": "5c9f641d-7ad2-4a0a-ae01-5a8bddf060b9",
   "metadata": {},
   "outputs": [],
   "source": []
  }
 ],
 "metadata": {
  "kernelspec": {
   "display_name": "Python 3 (ipykernel)",
   "language": "python",
   "name": "python3"
  },
  "language_info": {
   "codemirror_mode": {
    "name": "ipython",
    "version": 3
   },
   "file_extension": ".py",
   "mimetype": "text/x-python",
   "name": "python",
   "nbconvert_exporter": "python",
   "pygments_lexer": "ipython3",
   "version": "3.13.3"
  }
 },
 "nbformat": 4,
 "nbformat_minor": 5
}
